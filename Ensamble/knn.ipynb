{
 "cells": [
  {
   "cell_type": "code",
   "execution_count": 1,
   "metadata": {},
   "outputs": [],
   "source": [
    "import pickle\n",
    "import numpy as np\n",
    "import torch"
   ]
  },
  {
   "cell_type": "code",
   "execution_count": 2,
   "metadata": {},
   "outputs": [
    {
     "name": "stderr",
     "output_type": "stream",
     "text": [
      "/Users/sriram/miniconda3/lib/python3.10/site-packages/tqdm/auto.py:22: TqdmWarning: IProgress not found. Please update jupyter and ipywidgets. See https://ipywidgets.readthedocs.io/en/stable/user_install.html\n",
      "  from .autonotebook import tqdm as notebook_tqdm\n"
     ]
    }
   ],
   "source": [
    "with open('./combined_feats_train_knn.pkl', 'rb') as fp:\n",
    "    combined_feats_train_knn = pickle.load(fp)\n",
    "\n",
    "with open('./labels_train_knn.pkl', 'rb') as fp:\n",
    "    labels_train_knn = pickle.load(fp)\n",
    "\n",
    "with open('./model_outputs_train_knn.pkl', 'rb') as fp:\n",
    "    model_outputs_train_knn = pickle.load(fp)\n",
    "\n",
    "with open('./combined_feats_eval.pkl', 'rb') as fp:\n",
    "    combined_feats_eval = pickle.load(fp)\n",
    "\n",
    "with open('./labels_eval.pkl', 'rb') as fp:\n",
    "    labels_eval = pickle.load(fp)\n",
    "\n",
    "with open('./model_outputs_eval.pkl', 'rb') as fp:\n",
    "    model_outputs_eval = pickle.load(fp)"
   ]
  },
  {
   "cell_type": "code",
   "execution_count": 7,
   "metadata": {},
   "outputs": [],
   "source": [
    "from sklearn.neighbors import KNeighborsClassifier\n",
    "k = 3\n",
    "knn_classifier = KNeighborsClassifier(n_neighbors=k)\n",
    "knn_classifier.fit(combined_feats_train_knn, labels_train_knn)\n",
    "neighbors_dist, neighbors_ind = knn_classifier.kneighbors(X=combined_feats_eval)"
   ]
  },
  {
   "cell_type": "code",
   "execution_count": 6,
   "metadata": {},
   "outputs": [],
   "source": [
    "hits = 0\n",
    "for i, neighbors_ind_i in enumerate(neighbors_ind):\n",
    "    ind_model_accs = (model_outputs_train_knn[neighbors_ind_i] == labels_train_knn[neighbors_ind_i].unsqueeze(1)).float().mean(dim=0)\n",
    "    ind_model_accs_maxinds = torch.argsort(ind_model_accs, descending=True)\n",
    "    hits += (model_outputs_eval[i][ind_model_accs_maxinds].mean(dim=0).argmax() == labels_eval[i]).mean()"
   ]
  },
  {
   "cell_type": "code",
   "execution_count": null,
   "metadata": {},
   "outputs": [],
   "source": [
    "print(hits/len(neighbors_ind))"
   ]
  }
 ],
 "metadata": {
  "kernelspec": {
   "display_name": "base",
   "language": "python",
   "name": "python3"
  },
  "language_info": {
   "codemirror_mode": {
    "name": "ipython",
    "version": 3
   },
   "file_extension": ".py",
   "mimetype": "text/x-python",
   "name": "python",
   "nbconvert_exporter": "python",
   "pygments_lexer": "ipython3",
   "version": "3.10.9"
  },
  "orig_nbformat": 4
 },
 "nbformat": 4,
 "nbformat_minor": 2
}
